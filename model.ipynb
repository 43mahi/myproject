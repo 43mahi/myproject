{
 "cells": [
  {
   "cell_type": "code",
   "execution_count": null,
   "id": "f8de4f71",
   "metadata": {},
   "outputs": [],
   "source": [
    "import os\n",
    "from PIL import Image\n",
    "import numpy as np\n",
    "i=0\n",
    "\n",
    "imgs = []\n",
    "for file in os.listdir('processed images/'):\n",
    "    img = Image.open('processed images/'+file)\n",
    "    img_grey = img.convert(\"L\")\n",
    "    img_grey = img_grey.resize((64,64))\n",
    "    imgs.append(np.array(img_grey))\n",
    "    img_grey.save('gray/'+str(i)+'.jpg')\n",
    "    i+=1"
   ]
  },
  {
   "cell_type": "code",
   "execution_count": 29,
   "id": "1661852a",
   "metadata": {},
   "outputs": [
    {
     "data": {
      "text/plain": [
       "(240, 64, 64, 1)"
      ]
     },
     "execution_count": 29,
     "metadata": {},
     "output_type": "execute_result"
    }
   ],
   "source": [
    "data = np.array(imgs)\n",
    "data = np.expand_dims(data,axis=3)\n",
    "data.shape"
   ]
  },
  {
   "cell_type": "code",
   "execution_count": 31,
   "id": "35c3f03d",
   "metadata": {},
   "outputs": [
    {
     "data": {
      "text/plain": [
       "0     1.446\n",
       "1     2.051\n",
       "2     2.598\n",
       "3     3.087\n",
       "4     2.273\n",
       "5     2.989\n",
       "6     2.168\n",
       "7     2.637\n",
       "8     2.413\n",
       "9     1.748\n",
       "10    1.709\n",
       "11    1.416\n",
       "12    1.524\n",
       "13    2.207\n",
       "14    1.846\n",
       "Name: Ra, dtype: float64"
      ]
     },
     "execution_count": 31,
     "metadata": {},
     "output_type": "execute_result"
    }
   ],
   "source": [
    "import pandas as pd\n",
    "target = pd.read_csv('target.csv')\n",
    "target = target['Ra']\n",
    "target.head(15)"
   ]
  },
  {
   "cell_type": "code",
   "execution_count": 33,
   "id": "57776503",
   "metadata": {},
   "outputs": [],
   "source": [
    "data = data.copy()\n",
    "target = target.copy()"
   ]
  },
  {
   "cell_type": "code",
   "execution_count": 34,
   "id": "82dd6f9a",
   "metadata": {},
   "outputs": [
    {
     "name": "stdout",
     "output_type": "stream",
     "text": [
      "wear :  2.989\n"
     ]
    },
    {
     "data": {
      "image/png": "[encoded data removed]",
      "text/plain": [
       "<Figure size 432x288 with 1 Axes>"
      ]
     },
     "metadata": {
      "needs_background": "light"
     },
     "output_type": "display_data"
    }
   ],
   "source": [
    "from skimage.io import imshow\n",
    "imshow(data[5]);\n",
    "print(\"wear : \",target[5])"
   ]
  },
  {
   "cell_type": "code",
   "execution_count": 35,
   "id": "5f490b33",
   "metadata": {},
   "outputs": [
    {
     "name": "stdout",
     "output_type": "stream",
     "text": [
      "Epoch 1/10\n",
      "8/8 [==============================] - 21s 214ms/step - loss: 11346.1914 - r2_score: -34898.7305\n",
      "Epoch 2/10\n",
      "8/8 [==============================] - 1s 139ms/step - loss: 2.0593 - r2_score: -2.5762\n",
      "Epoch 3/10\n",
      "8/8 [==============================] - 1s 134ms/step - loss: 1.4826 - r2_score: -1.4531\n",
      "Epoch 4/10\n",
      "8/8 [==============================] - 1s 134ms/step - loss: 0.9505 - r2_score: -0.4631\n",
      "Epoch 5/10\n",
      "8/8 [==============================] - 1s 132ms/step - loss: 0.8402 - r2_score: -0.3019\n",
      "Epoch 6/10\n",
      "8/8 [==============================] - 1s 136ms/step - loss: 0.8711 - r2_score: -0.2973\n",
      "Epoch 7/10\n",
      "8/8 [==============================] - 1s 134ms/step - loss: 1.0613 - r2_score: -0.6274\n",
      "Epoch 8/10\n",
      "8/8 [==============================] - 1s 147ms/step - loss: 0.8746 - r2_score: -0.3890\n",
      "Epoch 9/10\n",
      "8/8 [==============================] - 1s 150ms/step - loss: 0.8686 - r2_score: -0.5021\n",
      "Epoch 10/10\n",
      "8/8 [==============================] - 1s 150ms/step - loss: 0.8286 - r2_score: -0.2664\n"
     ]
    },
    {
     "data": {
      "text/plain": [
       "<keras.callbacks.History at 0x123255f9b20>"
      ]
     },
     "execution_count": 35,
     "metadata": {},
     "output_type": "execute_result"
    }
   ],
   "source": [
    "import tensorflow as tf\n",
    "from tensorflow import keras\n",
    "from keras.backend import sum,square,mean,epsilon\n",
    "\n",
    "model = tf.keras.Sequential([\n",
    "    tf.keras.layers.Conv2D(32, (3, 3), activation='relu', input_shape=(64, 64, 1)),\n",
    "    tf.keras.layers.MaxPooling2D((2, 2)),\n",
    "    tf.keras.layers.Conv2D(64, (3, 3), activation='relu'),\n",
    "    tf.keras.layers.MaxPooling2D((2, 2)),\n",
    "    tf.keras.layers.Conv2D(64, (3, 3), activation='relu'),\n",
    "    tf.keras.layers.Flatten(),\n",
    "    tf.keras.layers.Dense(64, activation='relu'),\n",
    "    tf.keras.layers.Dense(1, activation='linear')\n",
    "])\n",
    "\n",
    "def r2_score(y_true,y_pred):\n",
    "    u = sum(square(y_true-y_pred))\n",
    "    v = sum(square(y_true-mean(y_true)))\n",
    "    return (1-u/(v+epsilon()))\n",
    "\n",
    "# Compile the model\n",
    "model.compile(optimizer='adam', loss='mean_squared_error', metrics=[r2_score])\n",
    "\n",
    "# Train the model\n",
    "model.fit(data, target, epochs=10, batch_size=32)"
   ]
  },
  {
   "cell_type": "code",
   "execution_count": 36,
   "id": "4fd064b1",
   "metadata": {},
   "outputs": [],
   "source": [
    "model.save('surface_model.h5')"
   ]
  },
  {
   "cell_type": "code",
   "execution_count": 37,
   "id": "a617e184",
   "metadata": {},
   "outputs": [],
   "source": [
    "img = Image.open('gray/238.jpg')\n",
    "img_grey = img.convert(\"L\")\n",
    "img_grey = img_grey.resize((64,64))\n",
    "imgs = np.array(img_grey)\n",
    "data = np.reshape(imgs,(1,64,64,1))"
   ]
  },
  {
   "cell_type": "code",
   "execution_count": null,
   "id": "f5787124",
   "metadata": {},
   "outputs": [],
   "source": [
    "img_pred = model.predict(data)"
   ]
  },
  {
   "cell_type": "code",
   "execution_count": 39,
   "id": "68a8c750",
   "metadata": {},
   "outputs": [
    {
     "ename": "NameError",
     "evalue": "name 'img_pred' is not defined",
     "output_type": "error",
     "traceback": [
      "\u001b[1;31m---------------------------------------------------------------------------\u001b[0m",
      "\u001b[1;31mNameError\u001b[0m                                 Traceback (most recent call last)",
      "Input \u001b[1;32mIn [39]\u001b[0m, in \u001b[0;36m<cell line: 1>\u001b[1;34m()\u001b[0m\n\u001b[1;32m----> 1\u001b[0m \u001b[43mimg_pred\u001b[49m[\u001b[38;5;241m0\u001b[39m][\u001b[38;5;241m0\u001b[39m]\n",
      "\u001b[1;31mNameError\u001b[0m: name 'img_pred' is not defined"
     ]
    }
   ],
   "source": [
    "img_pred[0][0]"
   ]
  },
  {
   "cell_type": "code",
   "execution_count": null,
   "id": "fe802800",
   "metadata": {},
   "outputs": [],
   "source": []
  },
  {
   "cell_type": "code",
   "execution_count": null,
   "id": "4c7931b3",
   "metadata": {},
   "outputs": [],
   "source": []
  }
 ],
 "metadata": {
  "kernelspec": {
   "display_name": "Python 3 (ipykernel)",
   "language": "python",
   "name": "python3"
  },
  "language_info": {
   "codemirror_mode": {
    "name": "ipython",
    "version": 3
   },
   "file_extension": ".py",
   "mimetype": "text/x-python",
   "name": "python",
   "nbconvert_exporter": "python",
   "pygments_lexer": "ipython3",
   "version": "3.9.12"
  }
 },
 "nbformat": 4,
 "nbformat_minor": 5
}
